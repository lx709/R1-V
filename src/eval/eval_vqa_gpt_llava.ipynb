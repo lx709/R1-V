{
 "cells": [
  {
   "cell_type": "code",
   "execution_count": null,
   "metadata": {},
   "outputs": [],
   "source": [
    "import openai\n",
    "import json\n",
    "from openai import OpenAI\n",
    "import os\n",
    "from tqdm import tqdm\n",
    "\n",
    "# Set your OpenAI API key\n",
    "os.environ['OPENAI_API_KEY'] = xxx\n",
    "client = OpenAI()\n",
    "\n",
    "def check_match_with_gpt(question, ground_truth, predicted):\n",
    "    # Construct the prompt for GPT-4\n",
    "    prompt = f\"Question: {question}\\nGround Truth Answer: {ground_truth}\\nPredicted Answer: {predicted}\\nDoes the predicted answer match the ground truth? Answer 1 for match and 0 for not match. Use semantic meaning not exact match. Synonyms are also treated as a match, e.g., football and soccer, playground and ground track field, building and rooftop, pond and swimming pool. Do not explain the reason.\\n\"\n",
    "\n",
    "    # \"If the ground truth is included in the predicted answer, it is considered a match, such as a viaduct belongs to the highway system, commercial belongs to ubran, villa belongs to residential.\" \n",
    "\n",
    "    response = client.chat.completions.create(\n",
    "        # model=\"gpt-3.5-turbo-1106\",\n",
    "        model=\"gpt-4o-mini\",\n",
    "        messages=[\n",
    "            {\n",
    "                \"role\": \"user\", \n",
    "                \"content\": [\n",
    "                    {\n",
    "                        \"type\": \"text\", \n",
    "                        \"text\": prompt,\n",
    "                    },\n",
    "                ]\n",
    "            }\n",
    "        ],\n",
    "        max_tokens=100,\n",
    "    )\n",
    "\n",
    "    # answer = response.choices[0].text.strip()\n",
    "    answer =  response.choices[0].message.content\n",
    "    \n",
    "    return answer\n",
    "\n"
   ]
  },
  {
   "cell_type": "markdown",
   "metadata": {},
   "source": [
    "# VRSBench"
   ]
  },
  {
   "cell_type": "code",
   "execution_count": 13,
   "metadata": {},
   "outputs": [
    {
     "name": "stderr",
     "output_type": "stream",
     "text": [
      "  0%|          | 0/500 [00:00<?, ?it/s]"
     ]
    },
    {
     "name": "stderr",
     "output_type": "stream",
     "text": [
      "100%|██████████| 500/500 [02:25<00:00,  3.43it/s]\n"
     ]
    }
   ],
   "source": [
    "# qa_list = [json.loads(line) for line in open('../r1-v/outputs/VRSBench/eval/pred_s200.json','r').readlines()]\n",
    "qa_list = json.load(open('../r1-v/outputs/VRSBench/eval/pred_s500.json','r'))['results']\n",
    "\n",
    "# Iterate over the list and check matches\n",
    "results = []\n",
    "f = open('../r1-v/outputs/VRSBench/eval/pred_s500_gpt.json', 'a') \n",
    "for ii, qa in enumerate(tqdm(qa_list)):\n",
    "    question = qa['question']\n",
    "    ground_truth = qa['ground_truth'].lower()\n",
    "    predicted = qa['extracted_answer'].lower()\n",
    "    if ground_truth in predicted:\n",
    "        match_result = '1'\n",
    "    elif ground_truth in ['yes', 'no'] + list(map(str, range(100))):\n",
    "        match_result = '1' if ground_truth == predicted else '0'\n",
    "    elif 'correct' not in qa or qa['correct'] not in ['1', '0']:\n",
    "        # try to call gpt, if got error, sleep for 1 hour\n",
    "        try:\n",
    "            match_result = check_match_with_gpt(question, ground_truth, predicted)\n",
    "        except:\n",
    "            import time\n",
    "            time.sleep(3600)\n",
    "            match_result = check_match_with_gpt(question, ground_truth, predicted)\n",
    "    else:\n",
    "        match_result = qa['correct']\n",
    "        \n",
    "    result = {\n",
    "        'question_id': qa['question_id'],\n",
    "        'image_id': qa['image_id'],\n",
    "        \"type\": qa['type'],\n",
    "        \"question\": question,\n",
    "        \"ground_truth\": ground_truth,\n",
    "        \"predicted\": predicted,\n",
    "        \"correct\": match_result,\n",
    "    }\n",
    "    results.append(result)\n",
    "\n",
    "    f.write(json.dumps(result)+'\\n')\n",
    "    f.flush()\n",
    "\n",
    "f.close()\n",
    "\n"
   ]
  },
  {
   "cell_type": "code",
   "execution_count": 14,
   "metadata": {},
   "outputs": [
    {
     "name": "stdout",
     "output_type": "stream",
     "text": [
      "Correct: 279/500: 0.558\n"
     ]
    }
   ],
   "source": [
    "f = open('../r1-v/outputs/VRSBench/eval/pred_s500_gpt.json', 'r') \n",
    "results = [json.loads(line) for line in f.readlines()]\n",
    "f.close()\n",
    "correct = sum([int(result['correct']) for result in results if result['correct'] in ['1', '0']])\n",
    "print(f\"Correct: {correct}/{len(results)}:\", correct/len(results))"
   ]
  },
  {
   "cell_type": "code",
   "execution_count": null,
   "metadata": {},
   "outputs": [],
   "source": []
  },
  {
   "cell_type": "code",
   "execution_count": null,
   "metadata": {},
   "outputs": [],
   "source": []
  }
 ],
 "metadata": {
  "kernelspec": {
   "display_name": "base",
   "language": "python",
   "name": "python3"
  },
  "language_info": {
   "codemirror_mode": {
    "name": "ipython",
    "version": 3
   },
   "file_extension": ".py",
   "mimetype": "text/x-python",
   "name": "python",
   "nbconvert_exporter": "python",
   "pygments_lexer": "ipython3",
   "version": "3.10.8"
  }
 },
 "nbformat": 4,
 "nbformat_minor": 2
}
